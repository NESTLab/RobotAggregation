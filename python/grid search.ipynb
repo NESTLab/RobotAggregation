{
 "cells": [
  {
   "cell_type": "code",
   "execution_count": 1,
   "metadata": {},
   "outputs": [],
   "source": [
    "import numpy as np\n",
    "import matplotlib.pyplot as plt\n",
    "\n",
    "np.set_printoptions(suppress=True)"
   ]
  },
  {
   "cell_type": "code",
   "execution_count": 2,
   "metadata": {},
   "outputs": [],
   "source": [
    "full = np.genfromtxt(\"/home/peter/projects/swarm/segregation_without_computation/data/centroid_of_centroids/merged.csv\")\n",
    "x = np.ndarray((full.shape[0], 7))\n",
    "for i, row in enumerate(full):\n",
    "    x[i][0:6] = row[1:7]\n",
    "    x[i][6]  = np.mean(row[7:])"
   ]
  },
  {
   "cell_type": "code",
   "execution_count": 15,
   "metadata": {},
   "outputs": [
    {
     "name": "stdout",
     "output_type": "stream",
     "text": [
      "[1.81097486e+09 1.81097486e+09 1.81097486e+09 1.81097486e+09\n",
      " 1.81097486e+09 1.81097486e+09 1.81097486e+09 1.47039471e+09\n",
      " 1.47039471e+09 1.47039471e+09]\n"
     ]
    }
   ],
   "source": [
    "sorted_indeces = x[:,6].argsort()\n",
    "\n",
    "sorted_x = x[sorted_indeces]\n",
    "# print(sorted_x[:10,:6])\n",
    "# print(sorted_x[:10,6])\n",
    "\n",
    "# sorted_full = full[sorted_indeces]\n",
    "print(x[:10,6])"
   ]
  },
  {
   "cell_type": "code",
   "execution_count": 9,
   "metadata": {},
   "outputs": [
    {
     "data": {
      "image/png": "[encoded data removed]",
      "text/plain": [
       "<Figure size 432x288 with 1 Axes>"
      ]
     },
     "metadata": {},
     "output_type": "display_data"
    }
   ],
   "source": [
    "_ = plt.hist(sorted_x[:,6],bins=500)"
   ]
  },
  {
   "cell_type": "code",
   "execution_count": null,
   "metadata": {},
   "outputs": [],
   "source": []
  }
 ],
 "metadata": {
  "kernelspec": {
   "display_name": "Python 3",
   "language": "python",
   "name": "python3"
  },
  "language_info": {
   "codemirror_mode": {
    "name": "ipython",
    "version": 3
   },
   "file_extension": ".py",
   "mimetype": "text/x-python",
   "name": "python",
   "nbconvert_exporter": "python",
   "pygments_lexer": "ipython3",
   "version": "3.6.5"
  }
 },
 "nbformat": 4,
 "nbformat_minor": 2
}
